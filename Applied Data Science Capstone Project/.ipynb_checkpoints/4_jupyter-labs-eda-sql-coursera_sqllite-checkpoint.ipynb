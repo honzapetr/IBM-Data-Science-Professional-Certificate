{
 "cells": [
  {
   "cell_type": "markdown",
   "metadata": {},
   "source": [
    "<p style=\"text-align:center\">\n",
    "    <a href=\"https://skills.network/?utm_medium=Exinfluencer&utm_source=Exinfluencer&utm_content=000026UJ&utm_term=10006555&utm_id=NA-SkillsNetwork-Channel-SkillsNetworkCoursesIBMDS0321ENSkillsNetwork26802033-2022-01-01\" target=\"_blank\">\n",
    "    <img src=\"https://cf-courses-data.s3.us.cloud-object-storage.appdomain.cloud/assets/logos/SN_web_lightmode.png\" width=\"200\" alt=\"Skills Network Logo\"  />\n",
    "    </a>\n",
    "</p>\n",
    "\n",
    "<h1 align=center><font size = 5>Assignment: SQL Notebook for Peer Assignment</font></h1>\n",
    "\n",
    "Estimated time needed: **60** minutes.\n",
    "\n",
    "## Introduction\n",
    "\n",
    "Using this Python notebook you will:\n",
    "\n",
    "1.  Understand the Spacex DataSet\n",
    "2.  Load the dataset  into the corresponding table in a Db2 database\n",
    "3.  Execute SQL queries to answer assignment questions\n"
   ]
  },
  {
   "cell_type": "markdown",
   "metadata": {},
   "source": [
    "## Overview of the DataSet\n",
    "\n",
    "SpaceX has gained worldwide attention for a series of historic milestones.\n",
    "\n",
    "It is the only private company ever to return a spacecraft from low-earth orbit, which it first accomplished in December 2010.\n",
    "SpaceX advertises Falcon 9 rocket launches on its website with a cost of 62 million dollars wheras other providers cost upward of 165 million dollars each, much of the savings is because Space X can reuse the first stage.\n",
    "\n",
    "Therefore if we can determine if the first stage will land, we can determine the cost of a launch.\n",
    "\n",
    "This information can be used if an alternate company wants to bid against SpaceX for a rocket launch.\n",
    "\n",
    "This dataset includes a record for each payload carried during a SpaceX mission into outer space.\n"
   ]
  },
  {
   "cell_type": "markdown",
   "metadata": {},
   "source": [
    "### Download the datasets\n",
    "\n",
    "This assignment requires you to load the spacex dataset.\n",
    "\n",
    "In many cases the dataset to be analyzed is available as a .CSV (comma separated values) file, perhaps on the internet. Click on the link below to download and save the dataset (.CSV file):\n",
    "\n",
    "<a href=\"https://cf-courses-data.s3.us.cloud-object-storage.appdomain.cloud/IBM-DS0321EN-SkillsNetwork/labs/module_2/data/Spacex.csv?utm_medium=Exinfluencer&utm_source=Exinfluencer&utm_content=000026UJ&utm_term=10006555&utm_id=NA-SkillsNetwork-Channel-SkillsNetworkCoursesIBMDS0321ENSkillsNetwork26802033-2022-01-01\" target=\"_blank\">Spacex DataSet</a>\n"
   ]
  },
  {
   "cell_type": "markdown",
   "metadata": {},
   "source": [
    "### Store the dataset in database table\n",
    "\n",
    "**it is highly recommended to manually load the table using the database console LOAD tool in DB2**.\n",
    "\n",
    "<img src = \"https://cf-courses-data.s3.us.cloud-object-storage.appdomain.cloud/IBM-DS0321EN-SkillsNetwork/labs/module_2/images/spacexload.png\">\n",
    "\n",
    "Now open the Db2 console, open the LOAD tool, Select / Drag the .CSV file for the  dataset, Next create a New Table, and then follow the steps on-screen instructions to load the data. Name the new table as follows:\n",
    "\n",
    "**SPACEXDATASET**\n",
    "\n",
    "**Follow these steps while using old DB2 UI which is having Open Console Screen**\n",
    "\n",
    "**Note:While loading Spacex dataset, ensure that detect datatypes is disabled. Later click on the pencil icon(edit option).**\n",
    "\n",
    "1.  Change the Date Format by manually typing DD-MM-YYYY and timestamp format as DD-MM-YYYY HH\\:MM:SS\n",
    "\n",
    "2.  Change the PAYLOAD_MASS\\_\\_KG\\_  datatype  to INTEGER.\n",
    "\n",
    "<img src = \"https://cf-courses-data.s3.us.cloud-object-storage.appdomain.cloud/IBM-DS0321EN-SkillsNetwork/labs/module_2/images/spacexload2.png\">\n"
   ]
  },
  {
   "cell_type": "markdown",
   "metadata": {},
   "source": [
    "**Changes to be considered when having DB2 instance with the new UI having Go to UI screen**\n",
    "\n",
    "*   Refer to this insruction in this <a href=\"https://cf-courses-data.s3.us.cloud-object-storage.appdomain.cloud/IBMDeveloperSkillsNetwork-DB0201EN-SkillsNetwork/labs/Labs_Coursera_V5/labs/Lab%20-%20Sign%20up%20for%20IBM%20Cloud%20-%20Create%20Db2%20service%20instance%20-%20Get%20started%20with%20the%20Db2%20console/instructional-labs.md.html?utm_medium=Exinfluencer&utm_source=Exinfluencer&utm_content=000026UJ&utm_term=10006555&utm_id=NA-SkillsNetwork-Channel-SkillsNetworkCoursesIBMDS0321ENSkillsNetwork26802033-2022-01-01\">link</a> for viewing  the new  Go to UI screen.\n",
    "\n",
    "*   Later click on **Data link(below SQL)**  in the Go to UI screen  and click on **Load Data** tab.\n",
    "\n",
    "*   Later browse for the downloaded spacex file.\n",
    "\n",
    "<img src=\"https://cf-courses-data.s3.us.cloud-object-storage.appdomain.cloud/IBM-DS0321EN-SkillsNetwork/labs/module_2/images/browsefile.png\" width=\"800\"/>\n",
    "\n",
    "*   Once done select the schema andload the file.\n",
    "\n",
    " <img src=\"https://cf-courses-data.s3.us.cloud-object-storage.appdomain.cloud/IBM-DS0321EN-SkillsNetwork/labs/module_2/images/spacexload3.png\" width=\"800\"/>\n"
   ]
  },
  {
   "cell_type": "code",
   "execution_count": null,
   "metadata": {},
   "outputs": [],
   "source": [
    "!pip install sqlalchemy==1.3.9\n"
   ]
  },
  {
   "cell_type": "markdown",
   "metadata": {},
   "source": [
    "### Connect to the database\n",
    "\n",
    "Let us first load the SQL extension and establish a connection with the database\n"
   ]
  },
  {
   "cell_type": "code",
   "execution_count": 1,
   "metadata": {},
   "outputs": [],
   "source": [
    "%load_ext sql"
   ]
  },
  {
   "cell_type": "code",
   "execution_count": 2,
   "metadata": {},
   "outputs": [],
   "source": [
    "import csv, sqlite3\n",
    "\n",
    "con = sqlite3.connect(\"my_data1.db\")\n",
    "cur = con.cursor()"
   ]
  },
  {
   "cell_type": "code",
   "execution_count": null,
   "metadata": {},
   "outputs": [],
   "source": [
    "!pip install -q pandas==1.1.5"
   ]
  },
  {
   "cell_type": "code",
   "execution_count": 3,
   "metadata": {},
   "outputs": [],
   "source": [
    "%sql sqlite:///my_data1.db"
   ]
  },
  {
   "cell_type": "code",
   "execution_count": 4,
   "metadata": {},
   "outputs": [
    {
     "data": {
      "text/plain": [
       "101"
      ]
     },
     "execution_count": 4,
     "metadata": {},
     "output_type": "execute_result"
    }
   ],
   "source": [
    "import pandas as pd\n",
    "df = pd.read_csv(\"https://cf-courses-data.s3.us.cloud-object-storage.appdomain.cloud/IBM-DS0321EN-SkillsNetwork/labs/module_2/data/Spacex.csv\")\n",
    "df.to_sql(\"SPACEXTBL\", con, if_exists='replace', index=False,method=\"multi\")"
   ]
  },
  {
   "cell_type": "code",
   "execution_count": null,
   "metadata": {},
   "outputs": [],
   "source": [
    "### TO JSEM VLOŽIL JA, PUVODNĚ SE POUŽIVA DTB V BUNCE VÝŠE. ZDE TO JE PROSTĚ JAKO KDYBY NAHODOU JSEM SI CHTĚL DATA STAHNOUT ZE SVE DATABAZE\n",
    "\n",
    "\n",
    "#%sql ibm_db_sa://cps79179:HdtAZQg7iNxba6cI@0c77d6f2-5da9-48a9-81f8-86b520b87518.bs2io90l08kqb1od8lcg.databases.appdomain.cloud:31198/BLUDB?security=SSL"
   ]
  },
  {
   "cell_type": "markdown",
   "metadata": {},
   "source": [
    "## Tasks\n",
    "\n",
    "Now write and execute SQL queries to solve the assignment tasks.\n",
    "\n",
    "**Note: If the column names are in mixed case enclose it in double quotes\n",
    "For Example \"Landing_Outcome\"**\n",
    "\n",
    "### Task 1\n",
    "\n",
    "##### Display the names of the unique launch sites  in the space mission\n"
   ]
  },
  {
   "cell_type": "code",
   "execution_count": 6,
   "metadata": {},
   "outputs": [
    {
     "name": "stdout",
     "output_type": "stream",
     "text": [
      " * sqlite:///my_data1.db\n",
      "Done.\n"
     ]
    },
    {
     "data": {
      "text/html": [
       "<table>\n",
       "    <tr>\n",
       "        <th>Payload</th>\n",
       "    </tr>\n",
       "    <tr>\n",
       "        <td>Dragon Spacecraft Qualification Unit</td>\n",
       "    </tr>\n",
       "    <tr>\n",
       "        <td>Dragon demo flight C1, two CubeSats, barrel of Brouere cheese</td>\n",
       "    </tr>\n",
       "    <tr>\n",
       "        <td>Dragon demo flight C2</td>\n",
       "    </tr>\n",
       "    <tr>\n",
       "        <td>SpaceX CRS-1</td>\n",
       "    </tr>\n",
       "    <tr>\n",
       "        <td>SpaceX CRS-2</td>\n",
       "    </tr>\n",
       "    <tr>\n",
       "        <td>CASSIOPE</td>\n",
       "    </tr>\n",
       "    <tr>\n",
       "        <td>SES-8</td>\n",
       "    </tr>\n",
       "    <tr>\n",
       "        <td>Thaicom 6</td>\n",
       "    </tr>\n",
       "    <tr>\n",
       "        <td>SpaceX CRS-3</td>\n",
       "    </tr>\n",
       "    <tr>\n",
       "        <td>OG2 Mission 1  6 Orbcomm-OG2 satellites</td>\n",
       "    </tr>\n",
       "    <tr>\n",
       "        <td>AsiaSat 8</td>\n",
       "    </tr>\n",
       "    <tr>\n",
       "        <td>AsiaSat 6</td>\n",
       "    </tr>\n",
       "    <tr>\n",
       "        <td>SpaceX CRS-4</td>\n",
       "    </tr>\n",
       "    <tr>\n",
       "        <td>SpaceX CRS-5</td>\n",
       "    </tr>\n",
       "    <tr>\n",
       "        <td>DSCOVR</td>\n",
       "    </tr>\n",
       "    <tr>\n",
       "        <td>ABS-3A Eutelsat 115 West B</td>\n",
       "    </tr>\n",
       "    <tr>\n",
       "        <td>SpaceX CRS-6</td>\n",
       "    </tr>\n",
       "    <tr>\n",
       "        <td>Turkmen 52 / MonacoSAT</td>\n",
       "    </tr>\n",
       "    <tr>\n",
       "        <td>SpaceX CRS-7</td>\n",
       "    </tr>\n",
       "    <tr>\n",
       "        <td>OG2 Mission 2  11 Orbcomm-OG2 satellites</td>\n",
       "    </tr>\n",
       "    <tr>\n",
       "        <td>Jason-3</td>\n",
       "    </tr>\n",
       "    <tr>\n",
       "        <td>SES-9</td>\n",
       "    </tr>\n",
       "    <tr>\n",
       "        <td>SpaceX CRS-8</td>\n",
       "    </tr>\n",
       "    <tr>\n",
       "        <td>JCSAT-14</td>\n",
       "    </tr>\n",
       "    <tr>\n",
       "        <td>Thaicom 8</td>\n",
       "    </tr>\n",
       "    <tr>\n",
       "        <td>ABS-2A Eutelsat 117 West B</td>\n",
       "    </tr>\n",
       "    <tr>\n",
       "        <td>SpaceX CRS-9</td>\n",
       "    </tr>\n",
       "    <tr>\n",
       "        <td>JCSAT-16</td>\n",
       "    </tr>\n",
       "    <tr>\n",
       "        <td>Iridium NEXT 1</td>\n",
       "    </tr>\n",
       "    <tr>\n",
       "        <td>SpaceX CRS-10</td>\n",
       "    </tr>\n",
       "    <tr>\n",
       "        <td>EchoStar 23</td>\n",
       "    </tr>\n",
       "    <tr>\n",
       "        <td>SES-10</td>\n",
       "    </tr>\n",
       "    <tr>\n",
       "        <td>NROL-76</td>\n",
       "    </tr>\n",
       "    <tr>\n",
       "        <td>Inmarsat-5 F4</td>\n",
       "    </tr>\n",
       "    <tr>\n",
       "        <td>SpaceX CRS-11</td>\n",
       "    </tr>\n",
       "    <tr>\n",
       "        <td>BulgariaSat-1</td>\n",
       "    </tr>\n",
       "    <tr>\n",
       "        <td>Iridium NEXT 2</td>\n",
       "    </tr>\n",
       "    <tr>\n",
       "        <td>Intelsat 35e</td>\n",
       "    </tr>\n",
       "    <tr>\n",
       "        <td>SpaceX CRS-12</td>\n",
       "    </tr>\n",
       "    <tr>\n",
       "        <td>Formosat-5</td>\n",
       "    </tr>\n",
       "    <tr>\n",
       "        <td>Boeing X-37B OTV-5</td>\n",
       "    </tr>\n",
       "    <tr>\n",
       "        <td>Iridium NEXT 3</td>\n",
       "    </tr>\n",
       "    <tr>\n",
       "        <td>SES-11 / EchoStar 105</td>\n",
       "    </tr>\n",
       "    <tr>\n",
       "        <td>Koreasat 5A</td>\n",
       "    </tr>\n",
       "    <tr>\n",
       "        <td>SpaceX CRS-13</td>\n",
       "    </tr>\n",
       "    <tr>\n",
       "        <td>Iridium NEXT 4</td>\n",
       "    </tr>\n",
       "    <tr>\n",
       "        <td>Zuma</td>\n",
       "    </tr>\n",
       "    <tr>\n",
       "        <td>GovSat-1 / SES-16</td>\n",
       "    </tr>\n",
       "    <tr>\n",
       "        <td>Paz  Tintin A &amp; B</td>\n",
       "    </tr>\n",
       "    <tr>\n",
       "        <td>Hispasat 30W-6  PODSat</td>\n",
       "    </tr>\n",
       "    <tr>\n",
       "        <td>Iridium NEXT 5</td>\n",
       "    </tr>\n",
       "    <tr>\n",
       "        <td>SpaceX CRS-14</td>\n",
       "    </tr>\n",
       "    <tr>\n",
       "        <td>Transiting Exoplanet Survey Satellite (TESS)</td>\n",
       "    </tr>\n",
       "    <tr>\n",
       "        <td>Bangabandhu-1</td>\n",
       "    </tr>\n",
       "    <tr>\n",
       "        <td>Iridium NEXT 6   GRACE-FO 1, 2</td>\n",
       "    </tr>\n",
       "    <tr>\n",
       "        <td>SES-12</td>\n",
       "    </tr>\n",
       "    <tr>\n",
       "        <td>SpaceX CRS-15</td>\n",
       "    </tr>\n",
       "    <tr>\n",
       "        <td>Telstar 19V</td>\n",
       "    </tr>\n",
       "    <tr>\n",
       "        <td>Iridium NEXT-7</td>\n",
       "    </tr>\n",
       "    <tr>\n",
       "        <td>Merah Putih </td>\n",
       "    </tr>\n",
       "    <tr>\n",
       "        <td>Telstar 18V / Apstar-5C</td>\n",
       "    </tr>\n",
       "    <tr>\n",
       "        <td>SAOCOM 1A</td>\n",
       "    </tr>\n",
       "    <tr>\n",
       "        <td>Es hail 2</td>\n",
       "    </tr>\n",
       "    <tr>\n",
       "        <td>SSO-A </td>\n",
       "    </tr>\n",
       "    <tr>\n",
       "        <td>SpaceX CRS-16</td>\n",
       "    </tr>\n",
       "    <tr>\n",
       "        <td>GPS III-01 </td>\n",
       "    </tr>\n",
       "    <tr>\n",
       "        <td>Iridium NEXT-8</td>\n",
       "    </tr>\n",
       "    <tr>\n",
       "        <td>Nusantara Satu, Beresheet Moon lander, S5</td>\n",
       "    </tr>\n",
       "    <tr>\n",
       "        <td>Crew Dragon Demo-1, SpaceX CRS-17 </td>\n",
       "    </tr>\n",
       "    <tr>\n",
       "        <td>SpaceX CRS-17, Starlink v0.9</td>\n",
       "    </tr>\n",
       "    <tr>\n",
       "        <td>Starlink v0.9, RADARSAT Constellation</td>\n",
       "    </tr>\n",
       "    <tr>\n",
       "        <td>RADARSAT Constellation, SpaceX CRS-18 </td>\n",
       "    </tr>\n",
       "    <tr>\n",
       "        <td>SpaceX CRS-18, AMOS-17 </td>\n",
       "    </tr>\n",
       "    <tr>\n",
       "        <td>AMOS-17, Starlink 1 v1.0 </td>\n",
       "    </tr>\n",
       "    <tr>\n",
       "        <td>Starlink 1 v1.0, SpaceX CRS-19 </td>\n",
       "    </tr>\n",
       "    <tr>\n",
       "        <td>SpaceX CRS-19, JCSat-18 / Kacific 1 </td>\n",
       "    </tr>\n",
       "    <tr>\n",
       "        <td>JCSat-18 / Kacific 1, Starlink 2 v1.0 </td>\n",
       "    </tr>\n",
       "    <tr>\n",
       "        <td>Starlink 2 v1.0, Crew Dragon in-flight abort test </td>\n",
       "    </tr>\n",
       "    <tr>\n",
       "        <td>Crew Dragon in-flight abort test, Starlink 3 v1.0 </td>\n",
       "    </tr>\n",
       "    <tr>\n",
       "        <td>Starlink 3 v1.0, Starlink 4 v1.0 </td>\n",
       "    </tr>\n",
       "    <tr>\n",
       "        <td>Starlink 4 v1.0, SpaceX CRS-20</td>\n",
       "    </tr>\n",
       "    <tr>\n",
       "        <td>SpaceX CRS-20, Starlink 5 v1.0 </td>\n",
       "    </tr>\n",
       "    <tr>\n",
       "        <td>Starlink 5 v1.0, Starlink 6 v1.0 </td>\n",
       "    </tr>\n",
       "    <tr>\n",
       "        <td>Starlink 6 v1.0, Crew Dragon Demo-2 </td>\n",
       "    </tr>\n",
       "    <tr>\n",
       "        <td>Crew Dragon Demo-2, Starlink 7 v1.0 </td>\n",
       "    </tr>\n",
       "    <tr>\n",
       "        <td>Starlink 7 v1.0, Starlink 8 v1.0</td>\n",
       "    </tr>\n",
       "    <tr>\n",
       "        <td>Starlink 8 v1.0, SkySats-16, -17, -18, GPS III-03 </td>\n",
       "    </tr>\n",
       "    <tr>\n",
       "        <td>GPS III-03, ANASIS-II</td>\n",
       "    </tr>\n",
       "    <tr>\n",
       "        <td>ANASIS-II, Starlink 9 v1.0</td>\n",
       "    </tr>\n",
       "    <tr>\n",
       "        <td>Starlink 9 v1.0, SXRS-1, Starlink 10 v1.0 </td>\n",
       "    </tr>\n",
       "    <tr>\n",
       "        <td>Starlink 10 v1.0, SkySat-19, -20, -21, SAOCOM 1B </td>\n",
       "    </tr>\n",
       "    <tr>\n",
       "        <td>SAOCOM 1B, GNOMES 1, Tyvak-0172</td>\n",
       "    </tr>\n",
       "    <tr>\n",
       "        <td>Starlink 11 v1.0, Starlink 12 v1.0 </td>\n",
       "    </tr>\n",
       "    <tr>\n",
       "        <td>Starlink 12 v1.0, Starlink 13 v1.0 </td>\n",
       "    </tr>\n",
       "    <tr>\n",
       "        <td>Starlink 13 v1.0, Starlink 14 v1.0 </td>\n",
       "    </tr>\n",
       "    <tr>\n",
       "        <td>Starlink 14 v1.0, GPS III-04  </td>\n",
       "    </tr>\n",
       "    <tr>\n",
       "        <td>GPS III-04 , Crew-1</td>\n",
       "    </tr>\n",
       "    <tr>\n",
       "        <td>Crew-1, Sentinel-6 Michael Freilich </td>\n",
       "    </tr>\n",
       "    <tr>\n",
       "        <td>Sentinel-6 Michael Freilich, Starlink 15 v1.0 </td>\n",
       "    </tr>\n",
       "    <tr>\n",
       "        <td>Starlink 15 v1.0, SpaceX CRS-21</td>\n",
       "    </tr>\n",
       "    <tr>\n",
       "        <td>SpaceX CRS-21</td>\n",
       "    </tr>\n",
       "</table>"
      ],
      "text/plain": [
       "[('Dragon Spacecraft Qualification Unit',),\n",
       " ('Dragon demo flight C1, two CubeSats, barrel of Brouere cheese',),\n",
       " ('Dragon demo flight C2',),\n",
       " ('SpaceX CRS-1',),\n",
       " ('SpaceX CRS-2',),\n",
       " ('CASSIOPE',),\n",
       " ('SES-8',),\n",
       " ('Thaicom 6',),\n",
       " ('SpaceX CRS-3',),\n",
       " ('OG2 Mission 1  6 Orbcomm-OG2 satellites',),\n",
       " ('AsiaSat 8',),\n",
       " ('AsiaSat 6',),\n",
       " ('SpaceX CRS-4',),\n",
       " ('SpaceX CRS-5',),\n",
       " ('DSCOVR',),\n",
       " ('ABS-3A Eutelsat 115 West B',),\n",
       " ('SpaceX CRS-6',),\n",
       " ('Turkmen 52 / MonacoSAT',),\n",
       " ('SpaceX CRS-7',),\n",
       " ('OG2 Mission 2  11 Orbcomm-OG2 satellites',),\n",
       " ('Jason-3',),\n",
       " ('SES-9',),\n",
       " ('SpaceX CRS-8',),\n",
       " ('JCSAT-14',),\n",
       " ('Thaicom 8',),\n",
       " ('ABS-2A Eutelsat 117 West B',),\n",
       " ('SpaceX CRS-9',),\n",
       " ('JCSAT-16',),\n",
       " ('Iridium NEXT 1',),\n",
       " ('SpaceX CRS-10',),\n",
       " ('EchoStar 23',),\n",
       " ('SES-10',),\n",
       " ('NROL-76',),\n",
       " ('Inmarsat-5 F4',),\n",
       " ('SpaceX CRS-11',),\n",
       " ('BulgariaSat-1',),\n",
       " ('Iridium NEXT 2',),\n",
       " ('Intelsat 35e',),\n",
       " ('SpaceX CRS-12',),\n",
       " ('Formosat-5',),\n",
       " ('Boeing X-37B OTV-5',),\n",
       " ('Iridium NEXT 3',),\n",
       " ('SES-11 / EchoStar 105',),\n",
       " ('Koreasat 5A',),\n",
       " ('SpaceX CRS-13',),\n",
       " ('Iridium NEXT 4',),\n",
       " ('Zuma',),\n",
       " ('GovSat-1 / SES-16',),\n",
       " ('Paz  Tintin A & B',),\n",
       " ('Hispasat 30W-6  PODSat',),\n",
       " ('Iridium NEXT 5',),\n",
       " ('SpaceX CRS-14',),\n",
       " ('Transiting Exoplanet Survey Satellite (TESS)',),\n",
       " ('Bangabandhu-1',),\n",
       " ('Iridium NEXT 6   GRACE-FO 1, 2',),\n",
       " ('SES-12',),\n",
       " ('SpaceX CRS-15',),\n",
       " ('Telstar 19V',),\n",
       " ('Iridium NEXT-7',),\n",
       " ('Merah Putih ',),\n",
       " ('Telstar 18V / Apstar-5C',),\n",
       " ('SAOCOM 1A',),\n",
       " ('Es hail 2',),\n",
       " ('SSO-A ',),\n",
       " ('SpaceX CRS-16',),\n",
       " ('GPS III-01 ',),\n",
       " ('Iridium NEXT-8',),\n",
       " ('Nusantara Satu, Beresheet Moon lander, S5',),\n",
       " ('Crew Dragon Demo-1, SpaceX CRS-17 ',),\n",
       " ('SpaceX CRS-17, Starlink v0.9',),\n",
       " ('Starlink v0.9, RADARSAT Constellation',),\n",
       " ('RADARSAT Constellation, SpaceX CRS-18 ',),\n",
       " ('SpaceX CRS-18, AMOS-17 ',),\n",
       " ('AMOS-17, Starlink 1 v1.0 ',),\n",
       " ('Starlink 1 v1.0, SpaceX CRS-19 ',),\n",
       " ('SpaceX CRS-19, JCSat-18 / Kacific 1 ',),\n",
       " ('JCSat-18 / Kacific 1, Starlink 2 v1.0 ',),\n",
       " ('Starlink 2 v1.0, Crew Dragon in-flight abort test ',),\n",
       " ('Crew Dragon in-flight abort test, Starlink 3 v1.0 ',),\n",
       " ('Starlink 3 v1.0, Starlink 4 v1.0 ',),\n",
       " ('Starlink 4 v1.0, SpaceX CRS-20',),\n",
       " ('SpaceX CRS-20, Starlink 5 v1.0 ',),\n",
       " ('Starlink 5 v1.0, Starlink 6 v1.0 ',),\n",
       " ('Starlink 6 v1.0, Crew Dragon Demo-2 ',),\n",
       " ('Crew Dragon Demo-2, Starlink 7 v1.0 ',),\n",
       " ('Starlink 7 v1.0, Starlink 8 v1.0',),\n",
       " ('Starlink 8 v1.0, SkySats-16, -17, -18, GPS III-03 ',),\n",
       " ('GPS III-03, ANASIS-II',),\n",
       " ('ANASIS-II, Starlink 9 v1.0',),\n",
       " ('Starlink 9 v1.0, SXRS-1, Starlink 10 v1.0 ',),\n",
       " ('Starlink 10 v1.0, SkySat-19, -20, -21, SAOCOM 1B ',),\n",
       " ('SAOCOM 1B, GNOMES 1, Tyvak-0172',),\n",
       " ('Starlink 11 v1.0, Starlink 12 v1.0 ',),\n",
       " ('Starlink 12 v1.0, Starlink 13 v1.0 ',),\n",
       " ('Starlink 13 v1.0, Starlink 14 v1.0 ',),\n",
       " ('Starlink 14 v1.0, GPS III-04  ',),\n",
       " ('GPS III-04 , Crew-1',),\n",
       " ('Crew-1, Sentinel-6 Michael Freilich ',),\n",
       " ('Sentinel-6 Michael Freilich, Starlink 15 v1.0 ',),\n",
       " ('Starlink 15 v1.0, SpaceX CRS-21',),\n",
       " ('SpaceX CRS-21',)]"
      ]
     },
     "execution_count": 6,
     "metadata": {},
     "output_type": "execute_result"
    }
   ],
   "source": [
    "%%sql\n",
    "SELECT DISTINCT Payload FROM SPACEXTBL"
   ]
  },
  {
   "cell_type": "markdown",
   "metadata": {},
   "source": [
    "### Task 2\n",
    "\n",
    "##### Display 5 records where launch sites begin with the string 'CCA'\n"
   ]
  },
  {
   "cell_type": "code",
   "execution_count": 14,
   "metadata": {},
   "outputs": [
    {
     "name": "stdout",
     "output_type": "stream",
     "text": [
      " * sqlite:///my_data1.db\n",
      "Done.\n"
     ]
    },
    {
     "data": {
      "text/html": [
       "<table>\n",
       "    <tr>\n",
       "        <th>Date</th>\n",
       "        <th>Time (UTC)</th>\n",
       "        <th>Booster_Version</th>\n",
       "        <th>Launch_Site</th>\n",
       "        <th>Payload</th>\n",
       "        <th>PAYLOAD_MASS__KG_</th>\n",
       "        <th>Orbit</th>\n",
       "        <th>Customer</th>\n",
       "        <th>Mission_Outcome</th>\n",
       "        <th>Landing _Outcome</th>\n",
       "    </tr>\n",
       "    <tr>\n",
       "        <td>04-06-2010</td>\n",
       "        <td>18:45:00</td>\n",
       "        <td>F9 v1.0  B0003</td>\n",
       "        <td>CCAFS LC-40</td>\n",
       "        <td>Dragon Spacecraft Qualification Unit</td>\n",
       "        <td>0</td>\n",
       "        <td>LEO</td>\n",
       "        <td>SpaceX</td>\n",
       "        <td>Success</td>\n",
       "        <td>Failure (parachute)</td>\n",
       "    </tr>\n",
       "    <tr>\n",
       "        <td>08-12-2010</td>\n",
       "        <td>15:43:00</td>\n",
       "        <td>F9 v1.0  B0004</td>\n",
       "        <td>CCAFS LC-40</td>\n",
       "        <td>Dragon demo flight C1, two CubeSats, barrel of Brouere cheese</td>\n",
       "        <td>0</td>\n",
       "        <td>LEO (ISS)</td>\n",
       "        <td>NASA (COTS) NRO</td>\n",
       "        <td>Success</td>\n",
       "        <td>Failure (parachute)</td>\n",
       "    </tr>\n",
       "    <tr>\n",
       "        <td>22-05-2012</td>\n",
       "        <td>07:44:00</td>\n",
       "        <td>F9 v1.0  B0005</td>\n",
       "        <td>CCAFS LC-40</td>\n",
       "        <td>Dragon demo flight C2</td>\n",
       "        <td>525</td>\n",
       "        <td>LEO (ISS)</td>\n",
       "        <td>NASA (COTS)</td>\n",
       "        <td>Success</td>\n",
       "        <td>No attempt</td>\n",
       "    </tr>\n",
       "    <tr>\n",
       "        <td>08-10-2012</td>\n",
       "        <td>00:35:00</td>\n",
       "        <td>F9 v1.0  B0006</td>\n",
       "        <td>CCAFS LC-40</td>\n",
       "        <td>SpaceX CRS-1</td>\n",
       "        <td>500</td>\n",
       "        <td>LEO (ISS)</td>\n",
       "        <td>NASA (CRS)</td>\n",
       "        <td>Success</td>\n",
       "        <td>No attempt</td>\n",
       "    </tr>\n",
       "    <tr>\n",
       "        <td>01-03-2013</td>\n",
       "        <td>15:10:00</td>\n",
       "        <td>F9 v1.0  B0007</td>\n",
       "        <td>CCAFS LC-40</td>\n",
       "        <td>SpaceX CRS-2</td>\n",
       "        <td>677</td>\n",
       "        <td>LEO (ISS)</td>\n",
       "        <td>NASA (CRS)</td>\n",
       "        <td>Success</td>\n",
       "        <td>No attempt</td>\n",
       "    </tr>\n",
       "</table>"
      ],
      "text/plain": [
       "[('04-06-2010', '18:45:00', 'F9 v1.0  B0003', 'CCAFS LC-40', 'Dragon Spacecraft Qualification Unit', 0, 'LEO', 'SpaceX', 'Success', 'Failure (parachute)'),\n",
       " ('08-12-2010', '15:43:00', 'F9 v1.0  B0004', 'CCAFS LC-40', 'Dragon demo flight C1, two CubeSats, barrel of Brouere cheese', 0, 'LEO (ISS)', 'NASA (COTS) NRO', 'Success', 'Failure (parachute)'),\n",
       " ('22-05-2012', '07:44:00', 'F9 v1.0  B0005', 'CCAFS LC-40', 'Dragon demo flight C2', 525, 'LEO (ISS)', 'NASA (COTS)', 'Success', 'No attempt'),\n",
       " ('08-10-2012', '00:35:00', 'F9 v1.0  B0006', 'CCAFS LC-40', 'SpaceX CRS-1', 500, 'LEO (ISS)', 'NASA (CRS)', 'Success', 'No attempt'),\n",
       " ('01-03-2013', '15:10:00', 'F9 v1.0  B0007', 'CCAFS LC-40', 'SpaceX CRS-2', 677, 'LEO (ISS)', 'NASA (CRS)', 'Success', 'No attempt')]"
      ]
     },
     "execution_count": 14,
     "metadata": {},
     "output_type": "execute_result"
    }
   ],
   "source": [
    "%%sql \n",
    "SELECT * FROM SPACEXTBL WHERE lower(Launch_Site) LIKE 'cca%' LIMIT 5"
   ]
  },
  {
   "cell_type": "markdown",
   "metadata": {},
   "source": [
    "### Task 3\n",
    "\n",
    "##### Display the total payload mass carried by boosters launched by NASA (CRS)\n"
   ]
  },
  {
   "cell_type": "code",
   "execution_count": 119,
   "metadata": {},
   "outputs": [
    {
     "name": "stdout",
     "output_type": "stream",
     "text": [
      " * sqlite:///my_data1.db\n",
      "Done.\n"
     ]
    },
    {
     "data": {
      "text/html": [
       "<table>\n",
       "    <tr>\n",
       "        <th>num_of_payload_mass</th>\n",
       "    </tr>\n",
       "    <tr>\n",
       "        <td>45596</td>\n",
       "    </tr>\n",
       "</table>"
      ],
      "text/plain": [
       "[(45596,)]"
      ]
     },
     "execution_count": 119,
     "metadata": {},
     "output_type": "execute_result"
    }
   ],
   "source": [
    "%%sql\n",
    "/*SELECT count(*) as num_of_observation FROM SPACEXTBL;*/\n",
    "SELECT sum(PAYLOAD_MASS__KG_) as num_of_payload_mass FROM SPACEXTBL where Customer = \"NASA (CRS)\";"
   ]
  },
  {
   "cell_type": "markdown",
   "metadata": {},
   "source": [
    "### Task 4\n",
    "\n",
    "##### Display average payload mass carried by booster version F9 v1.1\n"
   ]
  },
  {
   "cell_type": "code",
   "execution_count": 38,
   "metadata": {},
   "outputs": [
    {
     "name": "stdout",
     "output_type": "stream",
     "text": [
      " * sqlite:///my_data1.db\n",
      "Done.\n"
     ]
    },
    {
     "data": {
      "text/html": [
       "<table>\n",
       "    <tr>\n",
       "        <th>avg_of_payload_mass</th>\n",
       "    </tr>\n",
       "    <tr>\n",
       "        <td>3890.05</td>\n",
       "    </tr>\n",
       "</table>"
      ],
      "text/plain": [
       "[(3890.05,)]"
      ]
     },
     "execution_count": 38,
     "metadata": {},
     "output_type": "execute_result"
    }
   ],
   "source": [
    "%%sql\n",
    "SELECT avg(PAYLOAD_MASS__KG_) as avg_of_payload_mass FROM SPACEXTBL WHERE lower(Booster_Version) LIKE '%1.1%'"
   ]
  },
  {
   "cell_type": "markdown",
   "metadata": {},
   "source": [
    "### Task 5\n",
    "\n",
    "##### List the date when the first succesful landing outcome in ground pad was acheived.\n",
    "\n",
    "*Hint:Use min function*\n"
   ]
  },
  {
   "cell_type": "code",
   "execution_count": 118,
   "metadata": {},
   "outputs": [
    {
     "name": "stdout",
     "output_type": "stream",
     "text": [
      " * sqlite:///my_data1.db\n",
      "Done.\n"
     ]
    },
    {
     "data": {
      "text/html": [
       "<table>\n",
       "    <tr>\n",
       "        <th>Date</th>\n",
       "        <th>Landing _Outcome</th>\n",
       "    </tr>\n",
       "    <tr>\n",
       "        <td>22-12-2015</td>\n",
       "        <td>Success (ground pad)</td>\n",
       "    </tr>\n",
       "</table>"
      ],
      "text/plain": [
       "[('22-12-2015', 'Success (ground pad)')]"
      ]
     },
     "execution_count": 118,
     "metadata": {},
     "output_type": "execute_result"
    }
   ],
   "source": [
    "%%sql\n",
    "/*max jsem musel vlozit, protoze date neni ve formatu date ale string a vychazi to zcela nahodně*/\n",
    "SELECT max(Date) as Date, \"Landing _Outcome\" FROM SPACEXTBL WHERE \"Landing _Outcome\" = 'Success (ground pad)'"
   ]
  },
  {
   "cell_type": "markdown",
   "metadata": {},
   "source": [
    "### Task 6\n",
    "\n",
    "##### List the names of the boosters which have success in drone ship and have payload mass greater than 4000 but less than 6000\n"
   ]
  },
  {
   "cell_type": "code",
   "execution_count": 123,
   "metadata": {},
   "outputs": [
    {
     "name": "stdout",
     "output_type": "stream",
     "text": [
      " * sqlite:///my_data1.db\n",
      "Done.\n"
     ]
    },
    {
     "data": {
      "text/html": [
       "<table>\n",
       "    <tr>\n",
       "        <th>Landing _Outcome</th>\n",
       "    </tr>\n",
       "    <tr>\n",
       "        <td>Failure (parachute)</td>\n",
       "    </tr>\n",
       "    <tr>\n",
       "        <td>No attempt</td>\n",
       "    </tr>\n",
       "    <tr>\n",
       "        <td>Uncontrolled (ocean)</td>\n",
       "    </tr>\n",
       "    <tr>\n",
       "        <td>Controlled (ocean)</td>\n",
       "    </tr>\n",
       "    <tr>\n",
       "        <td>Failure (drone ship)</td>\n",
       "    </tr>\n",
       "    <tr>\n",
       "        <td>Precluded (drone ship)</td>\n",
       "    </tr>\n",
       "    <tr>\n",
       "        <td>Success (ground pad)</td>\n",
       "    </tr>\n",
       "    <tr>\n",
       "        <td>Success (drone ship)</td>\n",
       "    </tr>\n",
       "    <tr>\n",
       "        <td>Success</td>\n",
       "    </tr>\n",
       "    <tr>\n",
       "        <td>Failure</td>\n",
       "    </tr>\n",
       "    <tr>\n",
       "        <td>No attempt </td>\n",
       "    </tr>\n",
       "</table>"
      ],
      "text/plain": [
       "[('Failure (parachute)',),\n",
       " ('No attempt',),\n",
       " ('Uncontrolled (ocean)',),\n",
       " ('Controlled (ocean)',),\n",
       " ('Failure (drone ship)',),\n",
       " ('Precluded (drone ship)',),\n",
       " ('Success (ground pad)',),\n",
       " ('Success (drone ship)',),\n",
       " ('Success',),\n",
       " ('Failure',),\n",
       " ('No attempt ',)]"
      ]
     },
     "execution_count": 123,
     "metadata": {},
     "output_type": "execute_result"
    }
   ],
   "source": [
    "%%sql \n",
    "SELECT  DISTINCT \"Landing _Outcome\" FROM SPACEXTBL"
   ]
  },
  {
   "cell_type": "code",
   "execution_count": 129,
   "metadata": {
    "scrolled": true
   },
   "outputs": [
    {
     "name": "stdout",
     "output_type": "stream",
     "text": [
      " * sqlite:///my_data1.db\n",
      "Done.\n"
     ]
    },
    {
     "data": {
      "text/html": [
       "<table>\n",
       "    <tr>\n",
       "        <th>Booster_Version</th>\n",
       "        <th>Landing _Outcome</th>\n",
       "        <th>PAYLOAD_MASS__KG_</th>\n",
       "    </tr>\n",
       "    <tr>\n",
       "        <td>F9 FT B1022</td>\n",
       "        <td>Success (drone ship)</td>\n",
       "        <td>4696</td>\n",
       "    </tr>\n",
       "    <tr>\n",
       "        <td>F9 FT B1026</td>\n",
       "        <td>Success (drone ship)</td>\n",
       "        <td>4600</td>\n",
       "    </tr>\n",
       "    <tr>\n",
       "        <td>F9 FT  B1021.2</td>\n",
       "        <td>Success (drone ship)</td>\n",
       "        <td>5300</td>\n",
       "    </tr>\n",
       "    <tr>\n",
       "        <td>F9 FT  B1031.2</td>\n",
       "        <td>Success (drone ship)</td>\n",
       "        <td>5200</td>\n",
       "    </tr>\n",
       "</table>"
      ],
      "text/plain": [
       "[('F9 FT B1022', 'Success (drone ship)', 4696),\n",
       " ('F9 FT B1026', 'Success (drone ship)', 4600),\n",
       " ('F9 FT  B1021.2', 'Success (drone ship)', 5300),\n",
       " ('F9 FT  B1031.2', 'Success (drone ship)', 5200)]"
      ]
     },
     "execution_count": 129,
     "metadata": {},
     "output_type": "execute_result"
    }
   ],
   "source": [
    "%%sql\n",
    "SELECT Booster_Version, \"Landing _Outcome\", PAYLOAD_MASS__KG_ FROM SPACEXTBL \n",
    "WHERE \n",
    "lower(\"Landing _Outcome\") LIKE '%Success (drone ship)%' AND \n",
    "PAYLOAD_MASS__KG_>4000 AND \n",
    "PAYLOAD_MASS__KG_<6000;"
   ]
  },
  {
   "cell_type": "markdown",
   "metadata": {},
   "source": [
    "### Task 7\n",
    "\n",
    "##### List the total number of successful and failure mission outcomes\n"
   ]
  },
  {
   "cell_type": "code",
   "execution_count": 130,
   "metadata": {
    "scrolled": true
   },
   "outputs": [
    {
     "name": "stdout",
     "output_type": "stream",
     "text": [
      " * sqlite:///my_data1.db\n",
      "Done.\n"
     ]
    },
    {
     "data": {
      "text/html": [
       "<table>\n",
       "    <tr>\n",
       "        <th>Mission_Outcome</th>\n",
       "    </tr>\n",
       "    <tr>\n",
       "        <td>Success</td>\n",
       "    </tr>\n",
       "    <tr>\n",
       "        <td>Failure (in flight)</td>\n",
       "    </tr>\n",
       "    <tr>\n",
       "        <td>Success (payload status unclear)</td>\n",
       "    </tr>\n",
       "    <tr>\n",
       "        <td>Success </td>\n",
       "    </tr>\n",
       "</table>"
      ],
      "text/plain": [
       "[('Success',),\n",
       " ('Failure (in flight)',),\n",
       " ('Success (payload status unclear)',),\n",
       " ('Success ',)]"
      ]
     },
     "execution_count": 130,
     "metadata": {},
     "output_type": "execute_result"
    }
   ],
   "source": [
    "%%sql \n",
    "SELECT  DISTINCT Mission_Outcome FROM SPACEXTBL"
   ]
  },
  {
   "cell_type": "code",
   "execution_count": 136,
   "metadata": {},
   "outputs": [
    {
     "name": "stdout",
     "output_type": "stream",
     "text": [
      " * sqlite:///my_data1.db\n",
      "Done.\n"
     ]
    },
    {
     "data": {
      "text/html": [
       "<table>\n",
       "    <tr>\n",
       "        <th>num</th>\n",
       "        <th>Mission_Outcome</th>\n",
       "    </tr>\n",
       "    <tr>\n",
       "        <td>1</td>\n",
       "        <td>Failure (in flight)</td>\n",
       "    </tr>\n",
       "    <tr>\n",
       "        <td>98</td>\n",
       "        <td>Success</td>\n",
       "    </tr>\n",
       "    <tr>\n",
       "        <td>1</td>\n",
       "        <td>Success </td>\n",
       "    </tr>\n",
       "    <tr>\n",
       "        <td>1</td>\n",
       "        <td>Success (payload status unclear)</td>\n",
       "    </tr>\n",
       "</table>"
      ],
      "text/plain": [
       "[(1, 'Failure (in flight)'),\n",
       " (98, 'Success'),\n",
       " (1, 'Success '),\n",
       " (1, 'Success (payload status unclear)')]"
      ]
     },
     "execution_count": 136,
     "metadata": {},
     "output_type": "execute_result"
    }
   ],
   "source": [
    "%%sql \n",
    "SELECT count(Mission_Outcome) as num, Mission_Outcome FROM SPACEXTBL group by Mission_Outcome"
   ]
  },
  {
   "cell_type": "code",
   "execution_count": 137,
   "metadata": {},
   "outputs": [
    {
     "name": "stdout",
     "output_type": "stream",
     "text": [
      " * sqlite:///my_data1.db\n",
      "Done.\n"
     ]
    },
    {
     "data": {
      "text/html": [
       "<table>\n",
       "    <tr>\n",
       "        <th>num</th>\n",
       "        <th>Landing _Outcome</th>\n",
       "    </tr>\n",
       "    <tr>\n",
       "        <td>5</td>\n",
       "        <td>Controlled (ocean)</td>\n",
       "    </tr>\n",
       "    <tr>\n",
       "        <td>3</td>\n",
       "        <td>Failure</td>\n",
       "    </tr>\n",
       "    <tr>\n",
       "        <td>5</td>\n",
       "        <td>Failure (drone ship)</td>\n",
       "    </tr>\n",
       "    <tr>\n",
       "        <td>2</td>\n",
       "        <td>Failure (parachute)</td>\n",
       "    </tr>\n",
       "    <tr>\n",
       "        <td>21</td>\n",
       "        <td>No attempt</td>\n",
       "    </tr>\n",
       "    <tr>\n",
       "        <td>1</td>\n",
       "        <td>No attempt </td>\n",
       "    </tr>\n",
       "    <tr>\n",
       "        <td>1</td>\n",
       "        <td>Precluded (drone ship)</td>\n",
       "    </tr>\n",
       "    <tr>\n",
       "        <td>38</td>\n",
       "        <td>Success</td>\n",
       "    </tr>\n",
       "    <tr>\n",
       "        <td>14</td>\n",
       "        <td>Success (drone ship)</td>\n",
       "    </tr>\n",
       "    <tr>\n",
       "        <td>9</td>\n",
       "        <td>Success (ground pad)</td>\n",
       "    </tr>\n",
       "    <tr>\n",
       "        <td>2</td>\n",
       "        <td>Uncontrolled (ocean)</td>\n",
       "    </tr>\n",
       "</table>"
      ],
      "text/plain": [
       "[(5, 'Controlled (ocean)'),\n",
       " (3, 'Failure'),\n",
       " (5, 'Failure (drone ship)'),\n",
       " (2, 'Failure (parachute)'),\n",
       " (21, 'No attempt'),\n",
       " (1, 'No attempt '),\n",
       " (1, 'Precluded (drone ship)'),\n",
       " (38, 'Success'),\n",
       " (14, 'Success (drone ship)'),\n",
       " (9, 'Success (ground pad)'),\n",
       " (2, 'Uncontrolled (ocean)')]"
      ]
     },
     "execution_count": 137,
     "metadata": {},
     "output_type": "execute_result"
    }
   ],
   "source": [
    "%%sql \n",
    "SELECT count(\"Landing _Outcome\") as num, \"Landing _Outcome\" FROM SPACEXTBL group by \"Landing _Outcome\""
   ]
  },
  {
   "cell_type": "markdown",
   "metadata": {},
   "source": [
    "### Task 8\n",
    "\n",
    "##### List the   names of the booster_versions which have carried the maximum payload mass. Use a subquery\n"
   ]
  },
  {
   "cell_type": "code",
   "execution_count": 141,
   "metadata": {},
   "outputs": [
    {
     "name": "stdout",
     "output_type": "stream",
     "text": [
      " * sqlite:///my_data1.db\n",
      "Done.\n"
     ]
    },
    {
     "data": {
      "text/html": [
       "<table>\n",
       "    <tr>\n",
       "        <th>Booster_Version</th>\n",
       "        <th>PAYLOAD_MASS__KG_</th>\n",
       "    </tr>\n",
       "    <tr>\n",
       "        <td>F9 B5 B1048.4</td>\n",
       "        <td>15600</td>\n",
       "    </tr>\n",
       "    <tr>\n",
       "        <td>F9 B5 B1049.4</td>\n",
       "        <td>15600</td>\n",
       "    </tr>\n",
       "    <tr>\n",
       "        <td>F9 B5 B1051.3</td>\n",
       "        <td>15600</td>\n",
       "    </tr>\n",
       "    <tr>\n",
       "        <td>F9 B5 B1056.4</td>\n",
       "        <td>15600</td>\n",
       "    </tr>\n",
       "    <tr>\n",
       "        <td>F9 B5 B1048.5</td>\n",
       "        <td>15600</td>\n",
       "    </tr>\n",
       "    <tr>\n",
       "        <td>F9 B5 B1051.4</td>\n",
       "        <td>15600</td>\n",
       "    </tr>\n",
       "    <tr>\n",
       "        <td>F9 B5 B1049.5</td>\n",
       "        <td>15600</td>\n",
       "    </tr>\n",
       "    <tr>\n",
       "        <td>F9 B5 B1060.2 </td>\n",
       "        <td>15600</td>\n",
       "    </tr>\n",
       "    <tr>\n",
       "        <td>F9 B5 B1058.3 </td>\n",
       "        <td>15600</td>\n",
       "    </tr>\n",
       "    <tr>\n",
       "        <td>F9 B5 B1051.6</td>\n",
       "        <td>15600</td>\n",
       "    </tr>\n",
       "    <tr>\n",
       "        <td>F9 B5 B1060.3</td>\n",
       "        <td>15600</td>\n",
       "    </tr>\n",
       "    <tr>\n",
       "        <td>F9 B5 B1049.7 </td>\n",
       "        <td>15600</td>\n",
       "    </tr>\n",
       "</table>"
      ],
      "text/plain": [
       "[('F9 B5 B1048.4', 15600),\n",
       " ('F9 B5 B1049.4', 15600),\n",
       " ('F9 B5 B1051.3', 15600),\n",
       " ('F9 B5 B1056.4', 15600),\n",
       " ('F9 B5 B1048.5', 15600),\n",
       " ('F9 B5 B1051.4', 15600),\n",
       " ('F9 B5 B1049.5', 15600),\n",
       " ('F9 B5 B1060.2 ', 15600),\n",
       " ('F9 B5 B1058.3 ', 15600),\n",
       " ('F9 B5 B1051.6', 15600),\n",
       " ('F9 B5 B1060.3', 15600),\n",
       " ('F9 B5 B1049.7 ', 15600)]"
      ]
     },
     "execution_count": 141,
     "metadata": {},
     "output_type": "execute_result"
    }
   ],
   "source": [
    "%%sql\n",
    "SELECT Booster_Version,PAYLOAD_MASS__KG_ FROM SPACEXTBL WHERE PAYLOAD_MASS__KG_ = (SELECT MAX(PAYLOAD_MASS__KG_) FROM SPACEXTBL);"
   ]
  },
  {
   "cell_type": "markdown",
   "metadata": {},
   "source": [
    "### Task 9\n",
    "\n",
    "##### List the records which will display the month names, failure landing_outcomes in drone ship ,booster versions, launch_site for the months in year 2015.\n",
    "\n",
    "**Note: SQLLite does not support monthnames. So you need to use  substr(Date, 4, 2) as month to get the months and substr(Date,7,4)='2015' for year.**\n"
   ]
  },
  {
   "cell_type": "code",
   "execution_count": 17,
   "metadata": {},
   "outputs": [
    {
     "name": "stdout",
     "output_type": "stream",
     "text": [
      " * sqlite:///my_data1.db\n",
      "Done.\n"
     ]
    },
    {
     "data": {
      "text/html": [
       "<table>\n",
       "    <tr>\n",
       "        <th>Date</th>\n",
       "        <th>month names</th>\n",
       "        <th>Landing _Outcome</th>\n",
       "        <th>Booster_Version</th>\n",
       "        <th>Launch_Site</th>\n",
       "    </tr>\n",
       "    <tr>\n",
       "        <td>10-01-2015</td>\n",
       "        <td>01</td>\n",
       "        <td>Failure (drone ship)</td>\n",
       "        <td>F9 v1.1 B1012</td>\n",
       "        <td>CCAFS LC-40</td>\n",
       "    </tr>\n",
       "    <tr>\n",
       "        <td>14-04-2015</td>\n",
       "        <td>04</td>\n",
       "        <td>Failure (drone ship)</td>\n",
       "        <td>F9 v1.1 B1015</td>\n",
       "        <td>CCAFS LC-40</td>\n",
       "    </tr>\n",
       "</table>"
      ],
      "text/plain": [
       "[('10-01-2015', '01', 'Failure (drone ship)', 'F9 v1.1 B1012', 'CCAFS LC-40'),\n",
       " ('14-04-2015', '04', 'Failure (drone ship)', 'F9 v1.1 B1015', 'CCAFS LC-40')]"
      ]
     },
     "execution_count": 17,
     "metadata": {},
     "output_type": "execute_result"
    }
   ],
   "source": [
    "%%sql \n",
    "SELECT Date, substr(Date, 4, 2) as \"month names\", \"Landing _Outcome\", Booster_Version, Launch_Site FROM SPACEXTBL \n",
    "where \"Landing _Outcome\" = \"Failure (drone ship)\" AND substr(Date,7,4)='2015'"
   ]
  },
  {
   "cell_type": "markdown",
   "metadata": {},
   "source": [
    "### Task 10\n",
    "\n",
    "##### Rank the  count of  successful landing_outcomes between the date 04-06-2010 and 20-03-2017 in descending order.\n"
   ]
  },
  {
   "cell_type": "code",
   "execution_count": 54,
   "metadata": {
    "scrolled": true
   },
   "outputs": [
    {
     "name": "stdout",
     "output_type": "stream",
     "text": [
      " * sqlite:///my_data1.db\n",
      "Done.\n"
     ]
    },
    {
     "data": {
      "text/html": [
       "<table>\n",
       "    <tr>\n",
       "        <th>datum</th>\n",
       "        <th>Date</th>\n",
       "        <th>Landing _Outcome</th>\n",
       "    </tr>\n",
       "    <tr>\n",
       "        <td>2017</td>\n",
       "        <td>14-01-2017</td>\n",
       "        <td>Success (drone ship)</td>\n",
       "    </tr>\n",
       "    <tr>\n",
       "        <td>2017</td>\n",
       "        <td>19-02-2017</td>\n",
       "        <td>Success (ground pad)</td>\n",
       "    </tr>\n",
       "    <tr>\n",
       "        <td>2017</td>\n",
       "        <td>30-03-2017</td>\n",
       "        <td>Success (drone ship)</td>\n",
       "    </tr>\n",
       "    <tr>\n",
       "        <td>2017</td>\n",
       "        <td>01-05-2017</td>\n",
       "        <td>Success (ground pad)</td>\n",
       "    </tr>\n",
       "    <tr>\n",
       "        <td>2017</td>\n",
       "        <td>03-06-2017</td>\n",
       "        <td>Success (ground pad)</td>\n",
       "    </tr>\n",
       "    <tr>\n",
       "        <td>2017</td>\n",
       "        <td>23-06-2017</td>\n",
       "        <td>Success (drone ship)</td>\n",
       "    </tr>\n",
       "    <tr>\n",
       "        <td>2017</td>\n",
       "        <td>25-06-2017</td>\n",
       "        <td>Success (drone ship)</td>\n",
       "    </tr>\n",
       "    <tr>\n",
       "        <td>2017</td>\n",
       "        <td>14-08-2017</td>\n",
       "        <td>Success (ground pad)</td>\n",
       "    </tr>\n",
       "    <tr>\n",
       "        <td>2017</td>\n",
       "        <td>24-08-2017</td>\n",
       "        <td>Success (drone ship)</td>\n",
       "    </tr>\n",
       "    <tr>\n",
       "        <td>2017</td>\n",
       "        <td>07-09-2017</td>\n",
       "        <td>Success (ground pad)</td>\n",
       "    </tr>\n",
       "    <tr>\n",
       "        <td>2017</td>\n",
       "        <td>09-10-2017</td>\n",
       "        <td>Success (drone ship)</td>\n",
       "    </tr>\n",
       "    <tr>\n",
       "        <td>2017</td>\n",
       "        <td>11-10-2017</td>\n",
       "        <td>Success (drone ship)</td>\n",
       "    </tr>\n",
       "    <tr>\n",
       "        <td>2017</td>\n",
       "        <td>30-10-2017</td>\n",
       "        <td>Success (drone ship)</td>\n",
       "    </tr>\n",
       "    <tr>\n",
       "        <td>2017</td>\n",
       "        <td>15-12-2017</td>\n",
       "        <td>Success (ground pad)</td>\n",
       "    </tr>\n",
       "    <tr>\n",
       "        <td>2016</td>\n",
       "        <td>08-04-2016</td>\n",
       "        <td>Success (drone ship)</td>\n",
       "    </tr>\n",
       "    <tr>\n",
       "        <td>2016</td>\n",
       "        <td>06-05-2016</td>\n",
       "        <td>Success (drone ship)</td>\n",
       "    </tr>\n",
       "    <tr>\n",
       "        <td>2016</td>\n",
       "        <td>27-05-2016</td>\n",
       "        <td>Success (drone ship)</td>\n",
       "    </tr>\n",
       "    <tr>\n",
       "        <td>2016</td>\n",
       "        <td>18-07-2016</td>\n",
       "        <td>Success (ground pad)</td>\n",
       "    </tr>\n",
       "    <tr>\n",
       "        <td>2016</td>\n",
       "        <td>14-08-2016</td>\n",
       "        <td>Success (drone ship)</td>\n",
       "    </tr>\n",
       "    <tr>\n",
       "        <td>2015</td>\n",
       "        <td>22-12-2015</td>\n",
       "        <td>Success (ground pad)</td>\n",
       "    </tr>\n",
       "</table>"
      ],
      "text/plain": [
       "[(2017, '14-01-2017', 'Success (drone ship)'),\n",
       " (2017, '19-02-2017', 'Success (ground pad)'),\n",
       " (2017, '30-03-2017', 'Success (drone ship)'),\n",
       " (2017, '01-05-2017', 'Success (ground pad)'),\n",
       " (2017, '03-06-2017', 'Success (ground pad)'),\n",
       " (2017, '23-06-2017', 'Success (drone ship)'),\n",
       " (2017, '25-06-2017', 'Success (drone ship)'),\n",
       " (2017, '14-08-2017', 'Success (ground pad)'),\n",
       " (2017, '24-08-2017', 'Success (drone ship)'),\n",
       " (2017, '07-09-2017', 'Success (ground pad)'),\n",
       " (2017, '09-10-2017', 'Success (drone ship)'),\n",
       " (2017, '11-10-2017', 'Success (drone ship)'),\n",
       " (2017, '30-10-2017', 'Success (drone ship)'),\n",
       " (2017, '15-12-2017', 'Success (ground pad)'),\n",
       " (2016, '08-04-2016', 'Success (drone ship)'),\n",
       " (2016, '06-05-2016', 'Success (drone ship)'),\n",
       " (2016, '27-05-2016', 'Success (drone ship)'),\n",
       " (2016, '18-07-2016', 'Success (ground pad)'),\n",
       " (2016, '14-08-2016', 'Success (drone ship)'),\n",
       " (2015, '22-12-2015', 'Success (ground pad)')]"
      ]
     },
     "execution_count": 54,
     "metadata": {},
     "output_type": "execute_result"
    }
   ],
   "source": [
    "%%sql \n",
    "/*Jeden zpusob multi podminky pro string*/\n",
    "/*SELECT \"Landing _Outcome\" FROM SPACEXTBL WHERE \"Landing _Outcome\" IN ('Success','Success (drone ship)','Success (ground pad)')*/\n",
    "\n",
    "SELECT CAST(substr(Date,7,4) as date) as datum, Date, \"Landing _Outcome\" FROM SPACEXTBL WHERE \"Landing _Outcome\" LIKE '%Success%'AND ( datum >= '2010' AND datum <= '2017')\n",
    "ORDER BY datum DESC"
   ]
  },
  {
   "cell_type": "code",
   "execution_count": 50,
   "metadata": {},
   "outputs": [
    {
     "name": "stdout",
     "output_type": "stream",
     "text": [
      " * sqlite:///my_data1.db\n",
      "Done.\n"
     ]
    },
    {
     "data": {
      "text/html": [
       "<table>\n",
       "    <tr>\n",
       "        <th>datum</th>\n",
       "        <th>Date</th>\n",
       "        <th>Landing _Outcome</th>\n",
       "    </tr>\n",
       "    <tr>\n",
       "        <td>2016</td>\n",
       "        <td>08-04-2016</td>\n",
       "        <td>Success (drone ship)</td>\n",
       "    </tr>\n",
       "    <tr>\n",
       "        <td>2015</td>\n",
       "        <td>22-12-2015</td>\n",
       "        <td>Success (ground pad)</td>\n",
       "    </tr>\n",
       "</table>"
      ],
      "text/plain": [
       "[(2016, '08-04-2016', 'Success (drone ship)'),\n",
       " (2015, '22-12-2015', 'Success (ground pad)')]"
      ]
     },
     "execution_count": 50,
     "metadata": {},
     "output_type": "execute_result"
    }
   ],
   "source": [
    "%%sql \n",
    "SELECT count(*), CAST(substr(Date,7,4) as date) as datum, Date, \"Landing _Outcome\" FROM SPACEXTBL WHERE \"Landing _Outcome\" LIKE '%Success%'AND ( datum >= '2010' AND datum <= '2017')\n",
    "GROUP BY \"Landing _Outcome\"\n",
    "ORDER BY datum DESC"
   ]
  },
  {
   "cell_type": "code",
   "execution_count": 61,
   "metadata": {},
   "outputs": [
    {
     "name": "stdout",
     "output_type": "stream",
     "text": [
      " * sqlite:///my_data1.db\n",
      "Done.\n"
     ]
    },
    {
     "data": {
      "text/html": [
       "<table>\n",
       "    <tr>\n",
       "        <th>count(Launch_Site)</th>\n",
       "        <th>Launch_Site</th>\n",
       "    </tr>\n",
       "    <tr>\n",
       "        <td>26</td>\n",
       "        <td>CCAFS LC-40</td>\n",
       "    </tr>\n",
       "    <tr>\n",
       "        <td>34</td>\n",
       "        <td>CCAFS SLC-40</td>\n",
       "    </tr>\n",
       "    <tr>\n",
       "        <td>25</td>\n",
       "        <td>KSC LC-39A</td>\n",
       "    </tr>\n",
       "    <tr>\n",
       "        <td>16</td>\n",
       "        <td>VAFB SLC-4E</td>\n",
       "    </tr>\n",
       "</table>"
      ],
      "text/plain": [
       "[(26, 'CCAFS LC-40'),\n",
       " (34, 'CCAFS SLC-40'),\n",
       " (25, 'KSC LC-39A'),\n",
       " (16, 'VAFB SLC-4E')]"
      ]
     },
     "execution_count": 61,
     "metadata": {},
     "output_type": "execute_result"
    }
   ],
   "source": [
    "%%sql\n",
    "/*Neco navíc*/ \n",
    "SELECT count(Launch_Site),Launch_Site FROM SPACEXTBL group by Launch_Site"
   ]
  },
  {
   "cell_type": "markdown",
   "metadata": {},
   "source": [
    "### Reference Links\n",
    "\n",
    "*   <a href =\"https://cf-courses-data.s3.us.cloud-object-storage.appdomain.cloud/IBMDeveloperSkillsNetwork-DB0201EN-SkillsNetwork/labs/Labs_Coursera_V5/labs/Lab%20-%20String%20Patterns%20-%20Sorting%20-%20Grouping/instructional-labs.md.html?utm_medium=Exinfluencer&utm_source=Exinfluencer&utm_content=000026UJ&utm_term=10006555&utm_id=NA-SkillsNetwork-Channel-SkillsNetworkCoursesIBMDS0321ENSkillsNetwork26802033-2022-01-01&origin=www.coursera.org\">Hands-on Lab : String Patterns, Sorting and Grouping</a>\n",
    "\n",
    "*   <a  href=\"https://cf-courses-data.s3.us.cloud-object-storage.appdomain.cloud/IBMDeveloperSkillsNetwork-DB0201EN-SkillsNetwork/labs/Labs_Coursera_V5/labs/Lab%20-%20Built-in%20functions%20/Hands-on_Lab__Built-in_Functions.md.html?utm_medium=Exinfluencer&utm_source=Exinfluencer&utm_content=000026UJ&utm_term=10006555&utm_id=NA-SkillsNetwork-Channel-SkillsNetworkCoursesIBMDS0321ENSkillsNetwork26802033-2022-01-01&origin=www.coursera.org\">Hands-on Lab: Built-in functions</a>\n",
    "\n",
    "*   <a  href=\"https://cf-courses-data.s3.us.cloud-object-storage.appdomain.cloud/IBMDeveloperSkillsNetwork-DB0201EN-SkillsNetwork/labs/Labs_Coursera_V5/labs/Lab%20-%20Sub-queries%20and%20Nested%20SELECTs%20/instructional-labs.md.html?utm_medium=Exinfluencer&utm_source=Exinfluencer&utm_content=000026UJ&utm_term=10006555&utm_id=NA-SkillsNetwork-Channel-SkillsNetworkCoursesIBMDS0321ENSkillsNetwork26802033-2022-01-01&origin=www.coursera.org\">Hands-on Lab : Sub-queries and Nested SELECT Statements</a>\n",
    "\n",
    "*   <a href=\"https://cf-courses-data.s3.us.cloud-object-storage.appdomain.cloud/IBMDeveloperSkillsNetwork-DB0201EN-SkillsNetwork/labs/Module%205/DB0201EN-Week3-1-3-SQLmagic.ipynb?utm_medium=Exinfluencer&utm_source=Exinfluencer&utm_content=000026UJ&utm_term=10006555&utm_id=NA-SkillsNetwork-Channel-SkillsNetworkCoursesIBMDS0321ENSkillsNetwork26802033-2022-01-01\">Hands-on Tutorial: Accessing Databases with SQL magic</a>\n",
    "\n",
    "*   <a href= \"https://cf-courses-data.s3.us.cloud-object-storage.appdomain.cloud/IBMDeveloperSkillsNetwork-DB0201EN-SkillsNetwork/labs/Module%205/DB0201EN-Week3-1-4-Analyzing.ipynb?utm_medium=Exinfluencer&utm_source=Exinfluencer&utm_content=000026UJ&utm_term=10006555&utm_id=NA-SkillsNetwork-Channel-SkillsNetworkCoursesIBMDS0321ENSkillsNetwork26802033-2022-01-01\">Hands-on Lab: Analyzing a real World Data Set</a>\n"
   ]
  },
  {
   "cell_type": "markdown",
   "metadata": {},
   "source": [
    "## Author(s)\n",
    "\n",
    "<h4> Lakshmi Holla </h4>\n"
   ]
  },
  {
   "cell_type": "markdown",
   "metadata": {},
   "source": [
    "## Other Contributors\n",
    "\n",
    "<h4> Rav Ahuja </h4>\n"
   ]
  },
  {
   "cell_type": "markdown",
   "metadata": {},
   "source": [
    "## Change log\n",
    "\n",
    "| Date       | Version | Changed by    | Change Description        |\n",
    "| ---------- | ------- | ------------- | ------------------------- |\n",
    "| 2021-07-09 | 0.2     | Lakshmi Holla | Changes made in magic sql |\n",
    "| 2021-05-20 | 0.1     | Lakshmi Holla | Created Initial Version   |\n"
   ]
  },
  {
   "cell_type": "markdown",
   "metadata": {},
   "source": [
    "## <h3 align=\"center\"> © IBM Corporation 2021. All rights reserved. <h3/>\n"
   ]
  }
 ],
 "metadata": {
  "kernelspec": {
   "display_name": "Python 3 (ipykernel)",
   "language": "python",
   "name": "python3"
  },
  "language_info": {
   "codemirror_mode": {
    "name": "ipython",
    "version": 3
   },
   "file_extension": ".py",
   "mimetype": "text/x-python",
   "name": "python",
   "nbconvert_exporter": "python",
   "pygments_lexer": "ipython3",
   "version": "3.9.12"
  }
 },
 "nbformat": 4,
 "nbformat_minor": 4
}
